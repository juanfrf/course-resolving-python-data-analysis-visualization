{
 "cells": [
  {
   "cell_type": "code",
   "execution_count": 1,
   "id": "ed0ef419-30b2-4b06-aef2-4e41f653917e",
   "metadata": {},
   "outputs": [
    {
     "data": {
      "text/plain": [
       "13"
      ]
     },
     "execution_count": 1,
     "metadata": {},
     "output_type": "execute_result"
    }
   ],
   "source": [
    "8 + 5"
   ]
  },
  {
   "cell_type": "code",
   "execution_count": 2,
   "id": "0a97dba8-f402-4ee6-b005-abbbda455a99",
   "metadata": {},
   "outputs": [
    {
     "data": {
      "text/plain": [
       "13"
      ]
     },
     "execution_count": 2,
     "metadata": {},
     "output_type": "execute_result"
    }
   ],
   "source": [
    "8 + 5"
   ]
  },
  {
   "cell_type": "code",
   "execution_count": null,
   "id": "7136cfcd-a779-4b82-9d5d-313ee1e8ffa1",
   "metadata": {},
   "outputs": [],
   "source": [
    "plt."
   ]
  },
  {
   "cell_type": "code",
   "execution_count": null,
   "id": "94358af7-de51-430a-8af9-e02ee66f6ede",
   "metadata": {},
   "outputs": [],
   "source": [
    "pip install nombrelibreria"
   ]
  },
  {
   "cell_type": "markdown",
   "id": "98b4ca90-e6be-472f-9365-afd3f9e2c13a",
   "metadata": {},
   "source": [
    "hola\n",
    "# titulo"
   ]
  },
  {
   "cell_type": "markdown",
   "id": "622e78f2-10c7-4a35-b584-1e95321492d8",
   "metadata": {},
   "source": [
    "titulo on almohadilla #"
   ]
  },
  {
   "cell_type": "code",
   "execution_count": null,
   "id": "65fd6089-0496-4478-b93b-ac7bb1df8463",
   "metadata": {},
   "outputs": [],
   "source": []
  }
 ],
 "metadata": {
  "kernelspec": {
   "display_name": "Python 3 (ipykernel)",
   "language": "python",
   "name": "python3"
  },
  "language_info": {
   "codemirror_mode": {
    "name": "ipython",
    "version": 3
   },
   "file_extension": ".py",
   "mimetype": "text/x-python",
   "name": "python",
   "nbconvert_exporter": "python",
   "pygments_lexer": "ipython3",
   "version": "3.10.8"
  }
 },
 "nbformat": 4,
 "nbformat_minor": 5
}
