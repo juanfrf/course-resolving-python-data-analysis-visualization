{
 "cells": [
  {
   "cell_type": "markdown",
   "id": "b59a8bdf-1eff-4d63-9329-ec7734d83cc2",
   "metadata": {
    "tags": []
   },
   "source": [
    "# The Resolving Python Framework for Data Visualization Libraries"
   ]
  },
  {
   "cell_type": "markdown",
   "id": "e2d0e320-6315-4648-afef-5048b9d30663",
   "metadata": {},
   "source": [
    "## Practice"
   ]
  },
  {
   "cell_type": "markdown",
   "id": "7b3e3983-05f7-4e39-a866-a94902902b7a",
   "metadata": {},
   "source": [
    "You'll practice the [Resolving Python Framework](https://www.craft.do/s/G80r1dqrQKrjTb) we have cover in this course by applying functions to the following `DataFrame`:"
   ]
  },
  {
   "cell_type": "code",
   "execution_count": null,
   "id": "2a62b013-2258-4e93-914d-80ccaf9d1d1d",
   "metadata": {},
   "outputs": [],
   "source": [
    "import pandas\n",
    "\n",
    "df_football = pandas.read_csv('russia-world-cup.csv') #!\n",
    "df_football = df_football[['Team', 'Goals Scored']].rename({'Goals Scored': 'goals', 'Team': 'team'}, axis=1).copy()\n",
    "df_football"
   ]
  },
  {
   "cell_type": "markdown",
   "id": "72a3a752-42ca-458b-a169-95773d6e5bc9",
   "metadata": {},
   "source": [
    "We have three main libraries in Python for Data Visualization:\n",
    "    \n",
    "- Matplotlib\n",
    "- Seaborn\n",
    "- Plotly\n",
    "\n",
    "Therefore, you'll create the same type of figure:\n",
    "\n",
    "1. Scatter plot\n",
    "2. Bar plot\n",
    "3. Pie plot\n",
    "4. Line plot\n",
    "\n",
    "With each library.\n",
    "\n",
    "The key reason to develop this exercise is the enhancement of the Mental Model. Therefore, you should use the shortcuts:\n",
    "\n",
    "1. `library.↹` [TAB] to get the list of functions available.\n",
    "2. `function(⇧ + ↹)` [SHIFT] + [TAB] to read the documentation to know the parameters you need to pass.\n",
    "\n",
    "> You may have different written names for the function that produces the same figure across the different libraries. If you start typing the name of the figure, you'll discover it. "
   ]
  },
  {
   "cell_type": "markdown",
   "id": "386fe648-1110-41a7-929a-d215e284971e",
   "metadata": {},
   "source": [
    "### Scatterplots"
   ]
  },
  {
   "cell_type": "markdown",
   "id": "1ff2180b-3c7b-4345-a19c-a6bf84d26b46",
   "metadata": {},
   "source": [
    "#### Matplotlib"
   ]
  },
  {
   "cell_type": "code",
   "execution_count": null,
   "id": "e50d8554-58e9-484b-9273-7ae42f5af318",
   "metadata": {},
   "outputs": [],
   "source": [
    "import matplotlib.pyplot as plt #!"
   ]
  },
  {
   "cell_type": "code",
   "execution_count": null,
   "id": "3e595bda-bc6b-4d4b-9112-f7ecd9519f86",
   "metadata": {},
   "outputs": [],
   "source": [
    "plt."
   ]
  },
  {
   "cell_type": "markdown",
   "id": "0aca0abf-578e-4e33-b2cc-5aea91c679a4",
   "metadata": {},
   "source": [
    "#### Seaborn"
   ]
  },
  {
   "cell_type": "code",
   "execution_count": null,
   "id": "3ce41d05-b60f-4cf7-9e5e-f5d6f1fe41ce",
   "metadata": {},
   "outputs": [],
   "source": [
    "import seaborn as sns #!"
   ]
  },
  {
   "cell_type": "code",
   "execution_count": null,
   "id": "ff0bd5bd-d48e-49da-b465-c2fc99e533fb",
   "metadata": {},
   "outputs": [],
   "source": [
    "sns."
   ]
  },
  {
   "cell_type": "markdown",
   "id": "13df07d2-bc15-4a52-9923-7a06ef7037b2",
   "metadata": {},
   "source": [
    "#### Plotly"
   ]
  },
  {
   "cell_type": "code",
   "execution_count": null,
   "id": "30e8ea8a-25f0-43da-99d7-4773a36cc085",
   "metadata": {},
   "outputs": [],
   "source": [
    "import plotly.express as px"
   ]
  },
  {
   "cell_type": "code",
   "execution_count": null,
   "id": "a7b3f99f-0efa-4703-82dd-1260644bb662",
   "metadata": {},
   "outputs": [],
   "source": [
    "px."
   ]
  },
  {
   "cell_type": "markdown",
   "id": "838e1b8f-7ff6-43a4-9a8c-2b6ff7d49467",
   "metadata": {},
   "source": [
    "### Barplot"
   ]
  },
  {
   "cell_type": "markdown",
   "id": "cffdfecb-fef5-43b8-ac65-6a8f1971fef5",
   "metadata": {},
   "source": [
    "#### Matplotlib"
   ]
  },
  {
   "cell_type": "code",
   "execution_count": null,
   "id": "78c604c8-0f14-4e26-9d1f-83ab8acd4a8c",
   "metadata": {},
   "outputs": [],
   "source": [
    "plt."
   ]
  },
  {
   "cell_type": "markdown",
   "id": "4c36051c-260e-4bc0-93cc-d557eef79a83",
   "metadata": {},
   "source": [
    "#### Seaborn"
   ]
  },
  {
   "cell_type": "code",
   "execution_count": null,
   "id": "4e328b84-7499-4601-b821-fc1c43e328eb",
   "metadata": {},
   "outputs": [],
   "source": [
    "sns."
   ]
  },
  {
   "cell_type": "markdown",
   "id": "3324965c-7b69-4dff-84d0-0dc6821b053a",
   "metadata": {},
   "source": [
    "#### Plotly"
   ]
  },
  {
   "cell_type": "code",
   "execution_count": null,
   "id": "15224fd5-20ec-427e-ac53-bd07aa61c4ff",
   "metadata": {},
   "outputs": [],
   "source": [
    "px."
   ]
  },
  {
   "cell_type": "markdown",
   "id": "c271e240-f054-45c5-8174-25f19ca33979",
   "metadata": {},
   "source": [
    "### Pieplot"
   ]
  },
  {
   "cell_type": "markdown",
   "id": "0a08e468-a43f-4f26-b998-f9c71ef0c491",
   "metadata": {},
   "source": [
    "#### Matplotlib"
   ]
  },
  {
   "cell_type": "code",
   "execution_count": null,
   "id": "bdb322b7-58cd-4955-abdb-b0fb8be01cfa",
   "metadata": {},
   "outputs": [],
   "source": []
  },
  {
   "cell_type": "markdown",
   "id": "4722a8ac-a2df-485a-920e-7c0f7e0c5cf0",
   "metadata": {},
   "source": [
    "\n",
    "#### Seaborn"
   ]
  },
  {
   "cell_type": "code",
   "execution_count": null,
   "id": "4c2abe42-c751-40b7-ae37-4d8e863e6d5a",
   "metadata": {},
   "outputs": [],
   "source": []
  },
  {
   "cell_type": "markdown",
   "id": "fc9f2e48-900a-4512-9e29-850a472b5c93",
   "metadata": {},
   "source": [
    "#### Plotly"
   ]
  },
  {
   "cell_type": "code",
   "execution_count": null,
   "id": "88fd6b8b-b265-4df0-8973-60c05f87a610",
   "metadata": {},
   "outputs": [],
   "source": []
  },
  {
   "cell_type": "markdown",
   "id": "a69760f2-f1fd-4d8e-86d9-35549b0bbebc",
   "metadata": {},
   "source": [
    "### Line plot"
   ]
  },
  {
   "cell_type": "markdown",
   "id": "01923355-8244-4a6d-9f79-061d40d1c778",
   "metadata": {},
   "source": [
    "#### Matplotlib\n",
    "\n",
    "> Look in Google if you don't find the solution by applying the Deduction Method of the Resolving Python Framework"
   ]
  },
  {
   "cell_type": "code",
   "execution_count": null,
   "id": "6712861a-8c74-482e-95a3-ca1803d2ea18",
   "metadata": {},
   "outputs": [],
   "source": []
  },
  {
   "cell_type": "markdown",
   "id": "0b67371d-ec86-4dd9-bbbe-fc5ab18c1d18",
   "metadata": {},
   "source": [
    "#### Seaborn"
   ]
  },
  {
   "cell_type": "code",
   "execution_count": null,
   "id": "824c1122-95d9-4884-81c4-773274550ee1",
   "metadata": {},
   "outputs": [],
   "source": []
  },
  {
   "cell_type": "markdown",
   "id": "c8fab3b6-2e0a-4a68-8588-f73c16e9b0a9",
   "metadata": {},
   "source": [
    "#### Plotly"
   ]
  },
  {
   "cell_type": "code",
   "execution_count": null,
   "id": "bad11504-0330-4d56-97bc-727d4599d746",
   "metadata": {},
   "outputs": [],
   "source": []
  },
  {
   "cell_type": "markdown",
   "id": "48b1b0ed-c7a6-4562-bd93-4a5d3757d430",
   "metadata": {},
   "source": [
    "# Reflect about what you have learnt ✍️\n",
    "\n",
    "*Double click in this cell to reflect about it*\n",
    "\n",
    "Which mistakes have commited have you committed?\n",
    "\n",
    "- [ ] [Write here]\n",
    "\n",
    "How will you solve them now?\n",
    "\n",
    "- [ ] [Write here]\n",
    "\n",
    "What have you learnt that you didn't know before?\n",
    "\n",
    "- [ ] [Write here]\n",
    "\n",
    "What do you value the most from this course?\n",
    "\n",
    "- [ ] [Write here]"
   ]
  }
 ],
 "metadata": {
  "kernelspec": {
   "display_name": "Python 3 (ipykernel)",
   "language": "python",
   "name": "python3"
  },
  "language_info": {
   "codemirror_mode": {
    "name": "ipython",
    "version": 3
   },
   "file_extension": ".py",
   "mimetype": "text/x-python",
   "name": "python",
   "nbconvert_exporter": "python",
   "pygments_lexer": "ipython3",
   "version": "3.10.6"
  },
  "toc-autonumbering": true
 },
 "nbformat": 4,
 "nbformat_minor": 5
}
