{
 "cells": [
  {
   "cell_type": "markdown",
   "id": "75c74add-5854-40b1-968d-5e0517c66fba",
   "metadata": {},
   "source": [
    "# Machine Learning"
   ]
  },
  {
   "cell_type": "markdown",
   "id": "bba7b3ce-014f-4be4-a18f-6c771784679e",
   "metadata": {},
   "source": [
    "## Load the data"
   ]
  },
  {
   "cell_type": "code",
   "execution_count": 2,
   "id": "3e0844aa-24c5-4ebe-a43d-e32b01379d2c",
   "metadata": {},
   "outputs": [],
   "source": [
    "import seaborn as sns"
   ]
  },
  {
   "cell_type": "code",
   "execution_count": 3,
   "id": "f43859f5-ae52-4653-bd59-e155b645114c",
   "metadata": {},
   "outputs": [
    {
     "data": {
      "text/plain": [
       "['anagrams',\n",
       " 'anscombe',\n",
       " 'attention',\n",
       " 'brain_networks',\n",
       " 'car_crashes',\n",
       " 'diamonds',\n",
       " 'dots',\n",
       " 'dowjones',\n",
       " 'exercise',\n",
       " 'flights',\n",
       " 'fmri',\n",
       " 'geyser',\n",
       " 'glue',\n",
       " 'healthexp',\n",
       " 'iris',\n",
       " 'mpg',\n",
       " 'penguins',\n",
       " 'planets',\n",
       " 'seaice',\n",
       " 'taxis',\n",
       " 'tips',\n",
       " 'titanic']"
      ]
     },
     "execution_count": 3,
     "metadata": {},
     "output_type": "execute_result"
    }
   ],
   "source": [
    "sns.get_dataset_names()"
   ]
  },
  {
   "cell_type": "markdown",
   "id": "05dc3c6c-5af5-477a-8ae2-98281628b577",
   "metadata": {},
   "source": [
    "Load one of the datasets from the previous list"
   ]
  },
  {
   "cell_type": "code",
   "execution_count": 5,
   "id": "42ce8ec3-f408-4b5b-82a1-2737f000ebc4",
   "metadata": {},
   "outputs": [
    {
     "data": {
      "text/html": [
       "<div>\n",
       "<style scoped>\n",
       "    .dataframe tbody tr th:only-of-type {\n",
       "        vertical-align: middle;\n",
       "    }\n",
       "\n",
       "    .dataframe tbody tr th {\n",
       "        vertical-align: top;\n",
       "    }\n",
       "\n",
       "    .dataframe thead th {\n",
       "        text-align: right;\n",
       "    }\n",
       "</style>\n",
       "<table border=\"1\" class=\"dataframe\">\n",
       "  <thead>\n",
       "    <tr style=\"text-align: right;\">\n",
       "      <th></th>\n",
       "      <th>mpg</th>\n",
       "      <th>cylinders</th>\n",
       "      <th>displacement</th>\n",
       "      <th>horsepower</th>\n",
       "      <th>weight</th>\n",
       "      <th>acceleration</th>\n",
       "      <th>model_year</th>\n",
       "      <th>origin</th>\n",
       "      <th>name</th>\n",
       "    </tr>\n",
       "  </thead>\n",
       "  <tbody>\n",
       "    <tr>\n",
       "      <th>0</th>\n",
       "      <td>18.0</td>\n",
       "      <td>8</td>\n",
       "      <td>307.0</td>\n",
       "      <td>130.0</td>\n",
       "      <td>3504</td>\n",
       "      <td>12.0</td>\n",
       "      <td>70</td>\n",
       "      <td>usa</td>\n",
       "      <td>chevrolet chevelle malibu</td>\n",
       "    </tr>\n",
       "    <tr>\n",
       "      <th>1</th>\n",
       "      <td>15.0</td>\n",
       "      <td>8</td>\n",
       "      <td>350.0</td>\n",
       "      <td>165.0</td>\n",
       "      <td>3693</td>\n",
       "      <td>11.5</td>\n",
       "      <td>70</td>\n",
       "      <td>usa</td>\n",
       "      <td>buick skylark 320</td>\n",
       "    </tr>\n",
       "    <tr>\n",
       "      <th>2</th>\n",
       "      <td>18.0</td>\n",
       "      <td>8</td>\n",
       "      <td>318.0</td>\n",
       "      <td>150.0</td>\n",
       "      <td>3436</td>\n",
       "      <td>11.0</td>\n",
       "      <td>70</td>\n",
       "      <td>usa</td>\n",
       "      <td>plymouth satellite</td>\n",
       "    </tr>\n",
       "    <tr>\n",
       "      <th>3</th>\n",
       "      <td>16.0</td>\n",
       "      <td>8</td>\n",
       "      <td>304.0</td>\n",
       "      <td>150.0</td>\n",
       "      <td>3433</td>\n",
       "      <td>12.0</td>\n",
       "      <td>70</td>\n",
       "      <td>usa</td>\n",
       "      <td>amc rebel sst</td>\n",
       "    </tr>\n",
       "    <tr>\n",
       "      <th>4</th>\n",
       "      <td>17.0</td>\n",
       "      <td>8</td>\n",
       "      <td>302.0</td>\n",
       "      <td>140.0</td>\n",
       "      <td>3449</td>\n",
       "      <td>10.5</td>\n",
       "      <td>70</td>\n",
       "      <td>usa</td>\n",
       "      <td>ford torino</td>\n",
       "    </tr>\n",
       "    <tr>\n",
       "      <th>...</th>\n",
       "      <td>...</td>\n",
       "      <td>...</td>\n",
       "      <td>...</td>\n",
       "      <td>...</td>\n",
       "      <td>...</td>\n",
       "      <td>...</td>\n",
       "      <td>...</td>\n",
       "      <td>...</td>\n",
       "      <td>...</td>\n",
       "    </tr>\n",
       "    <tr>\n",
       "      <th>393</th>\n",
       "      <td>27.0</td>\n",
       "      <td>4</td>\n",
       "      <td>140.0</td>\n",
       "      <td>86.0</td>\n",
       "      <td>2790</td>\n",
       "      <td>15.6</td>\n",
       "      <td>82</td>\n",
       "      <td>usa</td>\n",
       "      <td>ford mustang gl</td>\n",
       "    </tr>\n",
       "    <tr>\n",
       "      <th>394</th>\n",
       "      <td>44.0</td>\n",
       "      <td>4</td>\n",
       "      <td>97.0</td>\n",
       "      <td>52.0</td>\n",
       "      <td>2130</td>\n",
       "      <td>24.6</td>\n",
       "      <td>82</td>\n",
       "      <td>europe</td>\n",
       "      <td>vw pickup</td>\n",
       "    </tr>\n",
       "    <tr>\n",
       "      <th>395</th>\n",
       "      <td>32.0</td>\n",
       "      <td>4</td>\n",
       "      <td>135.0</td>\n",
       "      <td>84.0</td>\n",
       "      <td>2295</td>\n",
       "      <td>11.6</td>\n",
       "      <td>82</td>\n",
       "      <td>usa</td>\n",
       "      <td>dodge rampage</td>\n",
       "    </tr>\n",
       "    <tr>\n",
       "      <th>396</th>\n",
       "      <td>28.0</td>\n",
       "      <td>4</td>\n",
       "      <td>120.0</td>\n",
       "      <td>79.0</td>\n",
       "      <td>2625</td>\n",
       "      <td>18.6</td>\n",
       "      <td>82</td>\n",
       "      <td>usa</td>\n",
       "      <td>ford ranger</td>\n",
       "    </tr>\n",
       "    <tr>\n",
       "      <th>397</th>\n",
       "      <td>31.0</td>\n",
       "      <td>4</td>\n",
       "      <td>119.0</td>\n",
       "      <td>82.0</td>\n",
       "      <td>2720</td>\n",
       "      <td>19.4</td>\n",
       "      <td>82</td>\n",
       "      <td>usa</td>\n",
       "      <td>chevy s-10</td>\n",
       "    </tr>\n",
       "  </tbody>\n",
       "</table>\n",
       "<p>398 rows × 9 columns</p>\n",
       "</div>"
      ],
      "text/plain": [
       "      mpg  cylinders  displacement  horsepower  weight  acceleration  \\\n",
       "0    18.0          8         307.0       130.0    3504          12.0   \n",
       "1    15.0          8         350.0       165.0    3693          11.5   \n",
       "2    18.0          8         318.0       150.0    3436          11.0   \n",
       "3    16.0          8         304.0       150.0    3433          12.0   \n",
       "4    17.0          8         302.0       140.0    3449          10.5   \n",
       "..    ...        ...           ...         ...     ...           ...   \n",
       "393  27.0          4         140.0        86.0    2790          15.6   \n",
       "394  44.0          4          97.0        52.0    2130          24.6   \n",
       "395  32.0          4         135.0        84.0    2295          11.6   \n",
       "396  28.0          4         120.0        79.0    2625          18.6   \n",
       "397  31.0          4         119.0        82.0    2720          19.4   \n",
       "\n",
       "     model_year  origin                       name  \n",
       "0            70     usa  chevrolet chevelle malibu  \n",
       "1            70     usa          buick skylark 320  \n",
       "2            70     usa         plymouth satellite  \n",
       "3            70     usa              amc rebel sst  \n",
       "4            70     usa                ford torino  \n",
       "..          ...     ...                        ...  \n",
       "393          82     usa            ford mustang gl  \n",
       "394          82  europe                  vw pickup  \n",
       "395          82     usa              dodge rampage  \n",
       "396          82     usa                ford ranger  \n",
       "397          82     usa                 chevy s-10  \n",
       "\n",
       "[398 rows x 9 columns]"
      ]
     },
     "execution_count": 5,
     "metadata": {},
     "output_type": "execute_result"
    }
   ],
   "source": [
    "df = sns.load_dataset('mpg')\n",
    "df"
   ]
  },
  {
   "cell_type": "markdown",
   "id": "b53b7f47-bc58-4071-ba70-dcfb9c3b492d",
   "metadata": {},
   "source": [
    "## Select the variables for the model\n",
    "\n",
    "**Both variables must be continuous**\n",
    "\n",
    "1. y: the variable you want to predict\n",
    "2. X: the variable you will use to calculate the prediction y"
   ]
  },
  {
   "cell_type": "code",
   "execution_count": 1,
   "id": "d7d074d3-69ad-48cc-b2cc-c650ad830535",
   "metadata": {},
   "outputs": [
    {
     "ename": "NameError",
     "evalue": "name 'df' is not defined",
     "output_type": "error",
     "traceback": [
      "\u001b[0;31m---------------------------------------------------------------------------\u001b[0m",
      "\u001b[0;31mNameError\u001b[0m                                 Traceback (most recent call last)",
      "Cell \u001b[0;32mIn[1], line 1\u001b[0m\n\u001b[0;32m----> 1\u001b[0m X\u001b[38;5;241m=\u001b[39m\u001b[43mdf\u001b[49m[[\u001b[38;5;124m'\u001b[39m\u001b[38;5;124mweight\u001b[39m\u001b[38;5;124m'\u001b[39m]]\n\u001b[1;32m      2\u001b[0m y\u001b[38;5;241m=\u001b[39mdf\u001b[38;5;241m.\u001b[39mmpg\n",
      "\u001b[0;31mNameError\u001b[0m: name 'df' is not defined"
     ]
    }
   ],
   "source": [
    "X=df[['weight']]\n",
    "y=df.mpg"
   ]
  },
  {
   "cell_type": "markdown",
   "id": "a02dfd04-f2eb-4f15-a5dd-9ff50eec2419",
   "metadata": {},
   "source": [
    "## The Linear Regression ML Model"
   ]
  },
  {
   "cell_type": "markdown",
   "id": "f73cc2cb-aef7-40ef-b1df-e326f078484a",
   "metadata": {},
   "source": [
    "### Fit the model with the data"
   ]
  },
  {
   "cell_type": "code",
   "execution_count": null,
   "id": "043e8f12-31a0-4757-a81b-61643989577a",
   "metadata": {},
   "outputs": [],
   "source": [
    "from sklearn.linear_model import LinearRegression\n",
    "\n",
    "model_lr = LinearRegression()"
   ]
  },
  {
   "cell_type": "code",
   "execution_count": null,
   "id": "85bb0f3e-d6b6-4eb1-85bc-a05c4db1ca75",
   "metadata": {},
   "outputs": [],
   "source": [
    "model_lr.fit(X, y)"
   ]
  },
  {
   "cell_type": "markdown",
   "id": "49819c02-1c2a-4ac8-b09e-2458a6e5280f",
   "metadata": {},
   "source": [
    "### Predictions"
   ]
  },
  {
   "cell_type": "markdown",
   "id": "3f594fcd-1dce-4117-927e-61916624c328",
   "metadata": {},
   "source": [
    "#### Calculate the predictions"
   ]
  },
  {
   "cell_type": "code",
   "execution_count": null,
   "id": "6e5ece1d-c5c5-49cb-be5e-4adfb15c7a5d",
   "metadata": {},
   "outputs": [],
   "source": [
    "y_pred = model_lr.predict(X)\n",
    "y_pred"
   ]
  },
  {
   "cell_type": "markdown",
   "id": "bc771ffb-6763-42b4-a4d4-d6368267f05e",
   "metadata": {},
   "source": [
    "#### Add them to the DataFrame"
   ]
  },
  {
   "cell_type": "code",
   "execution_count": null,
   "id": "a7c4c4c3-efdb-4c5d-a933-32c51ad6b73b",
   "metadata": {},
   "outputs": [],
   "source": []
  },
  {
   "cell_type": "markdown",
   "id": "7f388949-b81f-4e8a-97da-d3229359526f",
   "metadata": {},
   "source": [
    "### Model evaluation"
   ]
  },
  {
   "cell_type": "markdown",
   "id": "d96c35c8-d0db-49c4-b54d-0f2c1467d162",
   "metadata": {},
   "source": [
    "#### Calculate the model's score"
   ]
  },
  {
   "cell_type": "code",
   "execution_count": null,
   "id": "f47b8b86-7048-45b2-8713-d6f77c2eea39",
   "metadata": {},
   "outputs": [],
   "source": [
    "model_lr.score(X, y)"
   ]
  },
  {
   "cell_type": "markdown",
   "id": "920494da-fbfd-4ae1-ac18-079351f684fa",
   "metadata": {},
   "source": [
    "### Model Interpretation"
   ]
  },
  {
   "cell_type": "markdown",
   "id": "55c8f7b7-0ffa-4b09-83a9-eb21d328d172",
   "metadata": {
    "tags": []
   },
   "source": [
    "#### Visualize the model with the real data"
   ]
  },
  {
   "cell_type": "code",
   "execution_count": null,
   "id": "42b08d5a-85dc-40db-bcce-777cb4bf308f",
   "metadata": {},
   "outputs": [],
   "source": []
  },
  {
   "cell_type": "markdown",
   "id": "baf38c4b-425a-4576-950c-cf11ec1989b3",
   "metadata": {},
   "source": [
    "#### Add the legend to the chart\n",
    "\n",
    "- Google may help"
   ]
  },
  {
   "cell_type": "code",
   "execution_count": null,
   "id": "62381c35-75b7-4e23-b15f-9e24a4dfcf09",
   "metadata": {},
   "outputs": [],
   "source": []
  },
  {
   "cell_type": "markdown",
   "id": "455dfc7f-bcee-45de-b282-feaf1622a69d",
   "metadata": {},
   "source": [
    "#### Interpret the model's mathematical formula"
   ]
  },
  {
   "cell_type": "code",
   "execution_count": null,
   "id": "e43e6299-64ed-443b-a1c3-fd440eb0a070",
   "metadata": {},
   "outputs": [],
   "source": []
  },
  {
   "cell_type": "markdown",
   "id": "58f68bb4-2570-49cd-a441-93dc55383909",
   "metadata": {},
   "source": [
    "$$\n",
    "mpg = (a) + (b) \\cdot weight \\\\\n",
    "mpg = (?) + (?) \\cdot weight\n",
    "$$"
   ]
  },
  {
   "cell_type": "markdown",
   "id": "37021e5d-c59a-4517-88a3-7de0c3994ab3",
   "metadata": {},
   "source": [
    "## The Random Forest ML Model\n",
    "\n",
    "Within `ensemble` module from `sklearn`"
   ]
  },
  {
   "cell_type": "markdown",
   "id": "718d7052-0a5e-4bbd-9f06-9de33734e3d7",
   "metadata": {},
   "source": [
    "### Fit the model with the data"
   ]
  },
  {
   "cell_type": "code",
   "execution_count": null,
   "id": "1d56070e-335d-4166-891c-d652ee632019",
   "metadata": {},
   "outputs": [],
   "source": [
    "from sklearn.ensemble import RandomForestRegressor\n",
    "\n",
    "model_rf = RandomForestRegressor()"
   ]
  },
  {
   "cell_type": "code",
   "execution_count": null,
   "id": "7c08124b-f78d-4dd1-b21f-5173d2e854e3",
   "metadata": {},
   "outputs": [],
   "source": [
    "model_rf.fit(X, y)"
   ]
  },
  {
   "cell_type": "markdown",
   "id": "1a616122-8a90-4a0c-a861-32a225717b30",
   "metadata": {},
   "source": [
    "### Predictions"
   ]
  },
  {
   "cell_type": "markdown",
   "id": "adf07554-bd0d-40a6-bf2f-c470e2333d67",
   "metadata": {},
   "source": [
    "#### Calculate the predictions"
   ]
  },
  {
   "cell_type": "code",
   "execution_count": null,
   "id": "2d35f958-6662-48a9-9b51-1c19b439eae9",
   "metadata": {},
   "outputs": [],
   "source": [
    "y_pred = model_rf.predict(X)\n",
    "y_pred"
   ]
  },
  {
   "cell_type": "markdown",
   "id": "14f61d65-e398-457d-b935-53e65a3d8291",
   "metadata": {},
   "source": [
    "#### Add them to the DataFrame"
   ]
  },
  {
   "cell_type": "code",
   "execution_count": null,
   "id": "cff413c0-ff90-4faf-975d-7aadbd08240e",
   "metadata": {},
   "outputs": [],
   "source": []
  },
  {
   "cell_type": "markdown",
   "id": "130cd1c2-3dbd-4c4c-a932-5327025d056a",
   "metadata": {},
   "source": [
    "### Model evaluation"
   ]
  },
  {
   "cell_type": "markdown",
   "id": "bffe1544-8db4-42dd-97ab-e23f16856a60",
   "metadata": {},
   "source": [
    "#### Calculate the model's score"
   ]
  },
  {
   "cell_type": "code",
   "execution_count": null,
   "id": "f16e97b8-7353-47b5-b1cc-54254c8502cc",
   "metadata": {},
   "outputs": [],
   "source": [
    "model_rf.score(X, y)"
   ]
  },
  {
   "cell_type": "markdown",
   "id": "eb93ac5a-c34a-4605-97a7-91daa2d73b4b",
   "metadata": {},
   "source": [
    "### Model Interpretation"
   ]
  },
  {
   "cell_type": "markdown",
   "id": "5e4e79f6-8829-4ff9-882e-9abaa77d4f03",
   "metadata": {
    "tags": []
   },
   "source": [
    "#### Visualize the model with the real data"
   ]
  },
  {
   "cell_type": "code",
   "execution_count": null,
   "id": "6e0e9bf6-01fd-4068-a8f8-532de0271774",
   "metadata": {},
   "outputs": [],
   "source": []
  },
  {
   "cell_type": "markdown",
   "id": "4f0a0b2f-68c3-41f7-a283-7761ae0d092b",
   "metadata": {},
   "source": [
    "#### Add the legend to the chart\n",
    "\n",
    "- Google may help"
   ]
  },
  {
   "cell_type": "code",
   "execution_count": null,
   "id": "cc97c228-4f7a-4cc3-9499-a7e558e907b8",
   "metadata": {},
   "outputs": [],
   "source": []
  },
  {
   "cell_type": "markdown",
   "id": "a3cc88a5-4317-46f3-b596-259f96b3117c",
   "metadata": {},
   "source": [
    "#### Interpret the model's mathematical formula"
   ]
  },
  {
   "cell_type": "code",
   "execution_count": null,
   "id": "6b94cc18-1fbf-4064-9fb2-84fae2b496ff",
   "metadata": {},
   "outputs": [],
   "source": []
  },
  {
   "cell_type": "markdown",
   "id": "e981bd16-e90b-4899-83e2-c33ed673c998",
   "metadata": {},
   "source": [
    "## The K Nearest Neighbours ML Model\n",
    "\n",
    "Within `svm` module from `sklearn`"
   ]
  },
  {
   "cell_type": "markdown",
   "id": "6a3b2c56-f456-418e-bb3c-2f7c7279d6af",
   "metadata": {},
   "source": [
    "### Fit the model with the data"
   ]
  },
  {
   "cell_type": "code",
   "execution_count": null,
   "id": "7a3f9c36-fdea-4691-9667-30126587d57a",
   "metadata": {},
   "outputs": [],
   "source": [
    "from sklearn.svm import SVR\n",
    "\n",
    "model_sv = SVR()"
   ]
  },
  {
   "cell_type": "code",
   "execution_count": null,
   "id": "efca2987-ceb6-49a3-aea6-2c6a83e35b2d",
   "metadata": {},
   "outputs": [],
   "source": [
    "model_sv.fit(X, y)"
   ]
  },
  {
   "cell_type": "markdown",
   "id": "f85c161f-6de8-4906-b7b3-5df3f1aa028d",
   "metadata": {},
   "source": [
    "### Predictions"
   ]
  },
  {
   "cell_type": "markdown",
   "id": "a92d05ad-75ce-47a6-b956-9d025115bd78",
   "metadata": {},
   "source": [
    "#### Calculate the predictions"
   ]
  },
  {
   "cell_type": "code",
   "execution_count": null,
   "id": "fa4429c8-840b-4cfd-ab4a-57bcabf75bab",
   "metadata": {},
   "outputs": [],
   "source": [
    "y_pred = model_sv.predict(X)\n",
    "y_pred"
   ]
  },
  {
   "cell_type": "markdown",
   "id": "911ce81b-8809-4e1f-a6c0-07a405c42c7b",
   "metadata": {},
   "source": [
    "#### Add them to the DataFrame"
   ]
  },
  {
   "cell_type": "code",
   "execution_count": null,
   "id": "79b280f4-e013-43d0-a419-f9d8ecea673a",
   "metadata": {},
   "outputs": [],
   "source": []
  },
  {
   "cell_type": "markdown",
   "id": "cc4cad90-b5dd-489c-9cb6-750cad9d3421",
   "metadata": {},
   "source": [
    "### Model evaluation"
   ]
  },
  {
   "cell_type": "markdown",
   "id": "47b0879d-1818-40e6-b39e-9647eb78cf4b",
   "metadata": {
    "tags": []
   },
   "source": [
    "#### Calculate the model's score"
   ]
  },
  {
   "cell_type": "code",
   "execution_count": null,
   "id": "e18ccf8c-0fc5-4f44-ad7a-41e7c7c11f31",
   "metadata": {},
   "outputs": [],
   "source": [
    "model_sv.score(X, y)"
   ]
  },
  {
   "cell_type": "markdown",
   "id": "ee7508e7-0d94-4a4b-94ae-7131a54eb38c",
   "metadata": {},
   "source": [
    "### Model Interpretation"
   ]
  },
  {
   "cell_type": "markdown",
   "id": "6503df9e-133c-4226-8b5e-99d9ce794376",
   "metadata": {
    "tags": []
   },
   "source": [
    "#### Visualize the model with the real data"
   ]
  },
  {
   "cell_type": "code",
   "execution_count": null,
   "id": "d911e5f5-4f77-4ea5-b598-0ddadf6528ca",
   "metadata": {},
   "outputs": [],
   "source": []
  },
  {
   "cell_type": "markdown",
   "id": "646ae2df-1536-4adf-b9e4-0c992b3d170a",
   "metadata": {},
   "source": [
    "#### Add the legend to the chart\n",
    "\n",
    "- Google may help"
   ]
  },
  {
   "cell_type": "code",
   "execution_count": null,
   "id": "c365e29c-419e-4f00-8197-9b1c7c00719f",
   "metadata": {},
   "outputs": [],
   "source": []
  },
  {
   "cell_type": "markdown",
   "id": "633a62a0-88bf-4396-be6a-4335eac7d915",
   "metadata": {},
   "source": [
    "#### Interpret the model's mathematical formula"
   ]
  },
  {
   "cell_type": "code",
   "execution_count": null,
   "id": "549692bf-0cee-4340-8d5f-c15494948b3a",
   "metadata": {},
   "outputs": [],
   "source": []
  },
  {
   "cell_type": "markdown",
   "id": "3c2f369e-d76e-41d6-8607-c3da62bc937c",
   "metadata": {},
   "source": [
    "## Choose the best model"
   ]
  },
  {
   "cell_type": "markdown",
   "id": "1c1d8e68-b047-49ed-847f-9bcca2fc8dad",
   "metadata": {},
   "source": [
    "### Visualize all models"
   ]
  },
  {
   "cell_type": "code",
   "execution_count": null,
   "id": "b7ecf54e-69fb-4b2a-bc57-10d707724e12",
   "metadata": {},
   "outputs": [],
   "source": []
  },
  {
   "cell_type": "markdown",
   "id": "45aaa41c-c796-4589-92e7-c820111a1af4",
   "metadata": {},
   "source": [
    "### Calculate the score"
   ]
  },
  {
   "cell_type": "code",
   "execution_count": null,
   "id": "b51771a9-abbb-4294-938b-9c41ebb3603c",
   "metadata": {},
   "outputs": [],
   "source": []
  }
 ],
 "metadata": {
  "kernelspec": {
   "display_name": "Python 3 (ipykernel)",
   "language": "python",
   "name": "python3"
  },
  "language_info": {
   "codemirror_mode": {
    "name": "ipython",
    "version": 3
   },
   "file_extension": ".py",
   "mimetype": "text/x-python",
   "name": "python",
   "nbconvert_exporter": "python",
   "pygments_lexer": "ipython3",
   "version": "3.10.8"
  },
  "toc-autonumbering": true
 },
 "nbformat": 4,
 "nbformat_minor": 5
}
